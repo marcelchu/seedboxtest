{
 "cells": [
  {
   "cell_type": "markdown",
   "metadata": {},
   "source": [
    "# Seedbox Data Science Application Test Analysis\n",
    "\n",
    "In this following document, you will find the answers to the specific questions of the test."
   ]
  },
  {
   "cell_type": "code",
   "execution_count": 1,
   "metadata": {},
   "outputs": [],
   "source": [
    "#Importing the libraries\n",
    "import matplotlib.pyplot as plt\n",
    "import pandas as pd\n",
    "\n",
    "#Read the files\n",
    "testsamples = pd.read_csv(\"testSamples.csv\")\n",
    "transData = pd.read_csv(\"transData.csv\")"
   ]
  },
  {
   "cell_type": "code",
   "execution_count": 2,
   "metadata": {},
   "outputs": [],
   "source": [
    "#Make new list with unique test group (1) and control group (0)\n",
    "test_group_list = testsamples.loc[testsamples['test_group'] == 1]\n",
    "control_group_list = testsamples.loc[testsamples['test_group'] == 0]\n",
    "\n",
    "\n",
    "#Calculating the probability distribution\n",
    "p_test_group = len(test_group_list)/len(testsamples)\n",
    "p_control_group = 1-p_test_group"
   ]
  },
  {
   "cell_type": "code",
   "execution_count": 4,
   "metadata": {},
   "outputs": [
    {
     "data": {
      "image/png": "[encoded data removed]",
      "text/plain": [
       "<matplotlib.figure.Figure at 0x27aabc8d588>"
      ]
     },
     "metadata": {},
     "output_type": "display_data"
    }
   ],
   "source": [
    "#Data to plot.\n",
    "labels = 'Must call-in', 'Web-form'\n",
    "sizes = [\"{0:.2f}\".format(p_test_group),\"{0:.2f}\".format(p_control_group)]\n",
    "colors = ['yellowgreen','lightskyblue']\n",
    "explode = (0.1,0)\n",
    " \n",
    "# Pie chart for the probability distribution.\n",
    "plt.pie(sizes, explode=explode, labels=labels, colors=colors,\n",
    "        autopct='%1.1f%%', shadow=True, startangle=140)\n",
    " \n",
    "plt.axis('equal')\n",
    "plt.show()"
   ]
  },
  {
   "cell_type": "markdown",
   "metadata": {},
   "source": [
    "## 1. What is the aproximate probability distribution between the test group and the control group?\n",
    "\n",
    "The aproximate probability distribution for the test group (must call-in) is 25% and 75% for the control group (web-form).\n",
    "Indeed, there are 14835 people placed in the must call-in to cancel test group and 44886 people placed in the web form test group.\n",
    "The total population studied is 59721."
   ]
  },
  {
   "cell_type": "code",
   "execution_count": 8,
   "metadata": {},
   "outputs": [],
   "source": [
    "#Make new list with only rebill\n",
    "rebill_list = transData.loc[transData['transaction_type'] == \"REBILL\"]\n",
    "\n",
    "#Merging all the sample_id with the correct test_group\n",
    "rebill_merged_list = rebill_list.merge(testsamples, left_on='sample_id', \n",
    "                                       right_on='sample_id' )\n",
    "\n",
    "#Making a new list for rebill test group and rebill control group\n",
    "rebill_test = rebill_merged_list.loc[rebill_merged_list['test_group'] == 1]\n",
    "del rebill_test['transaction_amount']\n",
    "del rebill_test['transaction_id']\n",
    "\n",
    "rebill_control = rebill_merged_list.loc[rebill_merged_list['test_group'] == 0]\n",
    "del rebill_control['transaction_amount']\n",
    "del rebill_control['transaction_id']"
   ]
  },
  {
   "cell_type": "code",
   "execution_count": 9,
   "metadata": {},
   "outputs": [],
   "source": [
    "#Returning a list with the unique sample_id. Count the number of REBILL for each sample_id.\n",
    "rebill_test = rebill_test.groupby(rebill_test.columns.tolist()).size().reset_index().rename(columns={0:'rebill_count'})\n",
    "rebill_control = rebill_control.groupby(rebill_control.columns.tolist()).size().reset_index().rename(columns={0:'rebill_count'})\n",
    "\n",
    "#Calculate the average REBILL count for each test group.\n",
    "total_rebill_count_control = rebill_control.loc[rebill_control['test_group'] == 0, 'rebill_count'].sum()\n",
    "average_rebill_control = total_rebill_count_control/len(control_group_list)\n",
    "\n",
    "total_rebill_count_test = rebill_test.loc[rebill_test['test_group'] == 1, 'rebill_count'].sum()\n",
    "average_rebill_test = total_rebill_count_test/len(test_group_list)\n",
    "\n",
    "#Number of REBILL difference.\n",
    "difference = (total_rebill_count_test/len(test_group_list))-(total_rebill_count_control/len(control_group_list))"
   ]
  },
  {
   "cell_type": "code",
   "execution_count": 11,
   "metadata": {},
   "outputs": [
    {
     "data": {
      "text/plain": [
       "0.0836786525865526"
      ]
     },
     "execution_count": 11,
     "metadata": {},
     "output_type": "execute_result"
    }
   ],
   "source": [
    "average_rebill_control"
   ]
  },
  {
   "cell_type": "code",
   "execution_count": 13,
   "metadata": {},
   "outputs": [
    {
     "data": {
      "text/plain": [
       "0.21604314122008764"
      ]
     },
     "execution_count": 13,
     "metadata": {},
     "output_type": "execute_result"
    }
   ],
   "source": [
    "average_rebill_test"
   ]
  },
  {
   "cell_type": "code",
   "execution_count": 31,
   "metadata": {},
   "outputs": [
    {
     "data": {
      "text/plain": [
       "0.13236448863353503"
      ]
     },
     "execution_count": 31,
     "metadata": {},
     "output_type": "execute_result"
    }
   ],
   "source": [
    "difference"
   ]
  },
  {
   "cell_type": "markdown",
   "metadata": {},
   "source": [
    "## 2. Is a user that must call-in to cancel more likely to generate at least 1 addition REBILL?\n",
    "\n",
    "With the given data, we know that 44 886 web-form users do in total 3756 REBILLS. Furthermore, 14 835 call-in users do in total 3205 REBILLS. The average amount of REBILLs for web-form users is 0.08 REBILLs per user and the average amount of REBILLs for must call-in users is 0.22 REBILLs per user. If we do a substraction between the amounts, we can see that the must call-in user generate in average 0.13 more REBILLS than the web-form user. It is not 1 additionnal REBILL, but this value shows that the must call-in group helps the company make more profit, because they don't want to call to make an cancellation of their subscription."
   ]
  },
  {
   "cell_type": "code",
   "execution_count": 14,
   "metadata": {},
   "outputs": [],
   "source": [
    "#Merging all the sample_id with the correct test_group\n",
    "transaction_merged = transData.merge(testsamples, left_on='sample_id', \n",
    "                                       right_on='sample_id' )\n",
    "\n",
    "#Sum all the transaction amounts of the specific test group\n",
    "totaltransAmount_controlGroup = transaction_merged.loc[transaction_merged['test_group'] == 0, 'transaction_amount'].sum()\n",
    "totaltransAmount_testGroup = transaction_merged.loc[transaction_merged['test_group'] == 1, 'transaction_amount'].sum()"
   ]
  },
  {
   "cell_type": "code",
   "execution_count": 15,
   "metadata": {},
   "outputs": [],
   "source": [
    "#Calculate the average revenue for each test group.\n",
    "AVGtransAmount_controlGroup = totaltransAmount_controlGroup/len(control_group_list)\n",
    "AVGtransAmount_testGroup = totaltransAmount_testGroup/len(test_group_list)"
   ]
  },
  {
   "cell_type": "code",
   "execution_count": 18,
   "metadata": {},
   "outputs": [
    {
     "data": {
      "text/plain": [
       "2.001490442454217"
      ]
     },
     "execution_count": 18,
     "metadata": {},
     "output_type": "execute_result"
    }
   ],
   "source": [
    "AVGtransAmount_controlGroup"
   ]
  },
  {
   "cell_type": "code",
   "execution_count": 19,
   "metadata": {},
   "outputs": [
    {
     "data": {
      "text/plain": [
       "6.4329962925513975"
      ]
     },
     "execution_count": 19,
     "metadata": {},
     "output_type": "execute_result"
    }
   ],
   "source": [
    "AVGtransAmount_testGroup"
   ]
  },
  {
   "cell_type": "code",
   "execution_count": 25,
   "metadata": {},
   "outputs": [
    {
     "data": {
      "text/plain": [
       "4.431505850097181"
      ]
     },
     "execution_count": 25,
     "metadata": {},
     "output_type": "execute_result"
    }
   ],
   "source": [
    "#Revenu difference\n",
    "revenue_difference = AVGtransAmount_testGroup - AVGtransAmount_controlGroup\n",
    "revenue_difference"
   ]
  },
  {
   "cell_type": "markdown",
   "metadata": {},
   "source": [
    "## 3. Is a user that must call-in to cancel more likely to generate more revenues?\n",
    "\n",
    "In total, the web-form users generate 89838.90\\$ and the must call-in users generate 95433.50\\$.\n",
    "The average revenue amount is 2.00\\$ per web-form user and the average revenue amount is 6.43\\$ per must call-in user.\n",
    "With this information, we can confirm that the must call-in user is more likely to generate more revenues than the web-form user.In fact, with a simple substraction, the must call-in user generate in average 4.43\\$ more per user than the web form test group. People don't want to call-in to cancel their subscription therefore they still have to pay (REBILLs)."
   ]
  },
  {
   "cell_type": "code",
   "execution_count": 26,
   "metadata": {},
   "outputs": [
    {
     "data": {
      "image/png": "[encoded data removed]",
      "text/plain": [
       "<matplotlib.figure.Figure at 0x27aabd4acc0>"
      ]
     },
     "metadata": {},
     "output_type": "display_data"
    },
    {
     "data": {
      "image/png": "[encoded data removed]",
      "text/plain": [
       "<matplotlib.figure.Figure at 0x27aabff5400>"
      ]
     },
     "metadata": {},
     "output_type": "display_data"
    }
   ],
   "source": [
    "CallIn_transactions = transaction_merged.loc[transaction_merged['test_group'] == 1]\n",
    "\n",
    "#Data to plot.\n",
    "labels = 'REBILL', 'CHARGEBACK', 'REFUND'\n",
    "sizes = [len(CallIn_transactions[CallIn_transactions[\"transaction_type\"]=='REBILL']),\n",
    "         len(CallIn_transactions[CallIn_transactions[\"transaction_type\"]=='CHARGEBACK']),\n",
    "         len(CallIn_transactions[CallIn_transactions[\"transaction_type\"]=='REFUND'])]\n",
    "colors = ['yellowgreen','lightskyblue','red']\n",
    " \n",
    "# Plot for call-in transactions\n",
    "plt.pie(sizes, labels=labels, colors=colors,\n",
    "        autopct='%1.1f%%', shadow=True, startangle=140)\n",
    " \n",
    "plt.axis('equal')\n",
    "plt.show()\n",
    "\n",
    "WebForm_transactions = transaction_merged.loc[transaction_merged['test_group'] == 0]\n",
    "\n",
    "#Data to plot.\n",
    "labels = 'REBILL', 'CHARGEBACK', 'REFUND'\n",
    "sizes = [len(WebForm_transactions[WebForm_transactions[\"transaction_type\"]=='REBILL']),\n",
    "         len(WebForm_transactions[WebForm_transactions[\"transaction_type\"]=='CHARGEBACK']),\n",
    "         len(WebForm_transactions[WebForm_transactions[\"transaction_type\"]=='REFUND'])]\n",
    "colors = ['yellowgreen','lightskyblue','red']\n",
    " \n",
    "# Plot for web-form transaction.\n",
    "plt.pie(sizes, labels=labels, colors=colors,\n",
    "        autopct='%1.1f%%', shadow=True, startangle=140)\n",
    " \n",
    "plt.axis('equal')\n",
    "plt.show()"
   ]
  },
  {
   "cell_type": "markdown",
   "metadata": {},
   "source": [
    "By comparing the 2 pie charts, we can also see that the call-in users generate more percentage rebill than web-form users.      Also, we can notice that the number of Chargeback and refund are higher when it comes to web-form users.\n",
    "4 Is a user that must call-in more likely to produce a higher chargeback rate(CHARGEBACKs/REBILLs)"
   ]
  },
  {
   "cell_type": "code",
   "execution_count": 30,
   "metadata": {},
   "outputs": [
    {
     "name": "stdout",
     "output_type": "stream",
     "text": [
      "Total Rebill for Call-in: 3205\n",
      "Total Rebill for Web-Form: 3756\n",
      "Total Chargeback for Call-in: 1.7784711388455536\n",
      "Total Chargeback for Web-form: 2.8221512247071354\n"
     ]
    }
   ],
   "source": [
    "#Making respective list for each test group regrouping all transactions.\n",
    "CallIn_list = transaction_merged.loc[transaction_merged['test_group'] == 1]\n",
    "WebForm_list = transaction_merged.loc[transaction_merged['test_group'] == 0]\n",
    "\n",
    "#Count the total number of REBILL for each test group.\n",
    "totalRebill_CallIn = len(CallIn_list[CallIn_list[\"transaction_type\"]=='REBILL'])\n",
    "totalRebill_WebForm = len(WebForm_list[WebForm_list[\"transaction_type\"]=='REBILL'])\n",
    "\n",
    "#Count the total number of CHARGEBACK for each test group.\n",
    "totalChargeBack_CallIn= len(CallIn_list[CallIn_list[\"transaction_type\"]=='CHARGEBACK'])\n",
    "totalChargeBack_WebForm = len(WebForm_list[WebForm_list[\"transaction_type\"]=='CHARGEBACK'])\n",
    "\n",
    "#Calculate the chargeback rate for each test group.\n",
    "ChargebackRate_CallIn = (totalChargeBack_CallIn/totalRebill_CallIn)*100\n",
    "ChargebackRate_WebForm = (totalChargeBack_WebForm/totalRebill_WebForm)*100\n",
    "Chargeback_difference = ChargebackRate_WebForm - ChargebackRate_CallIn\n",
    "\n",
    "print(\"Total Rebill for Call-in: \" + str(totalRebill_CallIn))\n",
    "print(\"Total Rebill for Web-Form: \" + str(totalRebill_WebForm))\n",
    "\n",
    "print(\"Total Chargeback for Call-in: \" + str(ChargebackRate_CallIn))\n",
    "print(\"Total Chargeback for Web-form: \" + str(ChargebackRate_WebForm))"
   ]
  },
  {
   "cell_type": "markdown",
   "metadata": {},
   "source": [
    "## 4. Is a user that must call-in more likely to produce a higher chargeback rate(CHARGEBACKs/REBILLs)?\n",
    "\n",
    "With the informations, we know that the must call-in users get in total 3205 rebills and 57 chargebacks.\n",
    "The chargeback rate for the must call-in test group is 1.78%.\n",
    "Also, we can also confirm the web-form users get in total 3756 rebills and 106 chargebacks.\n",
    "The chargeback rate for this test group is 2.82%.\n",
    "As we can see, it is more likely for a web-form user to have a higher chargeback rate.\n",
    "We notice that web-form have 1.04% more chance to produce a higher chargeback rate. This result proves that web-form users are more prone to find a way to get their money back."
   ]
  }
 ],
 "metadata": {
  "kernelspec": {
   "display_name": "Python 3",
   "language": "python",
   "name": "python3"
  },
  "language_info": {
   "codemirror_mode": {
    "name": "ipython",
    "version": 3
   },
   "file_extension": ".py",
   "mimetype": "text/x-python",
   "name": "python",
   "nbconvert_exporter": "python",
   "pygments_lexer": "ipython3",
   "version": "3.6.4"
  }
 },
 "nbformat": 4,
 "nbformat_minor": 2
}
